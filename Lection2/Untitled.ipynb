{
 "cells": [
  {
   "cell_type": "code",
   "execution_count": 9,
   "metadata": {},
   "outputs": [
    {
     "data": {
      "text/plain": [
       "True"
      ]
     },
     "execution_count": 9,
     "metadata": {},
     "output_type": "execute_result"
    }
   ],
   "source": [
    "long_phrase = 'Насколько проще было бы писать программы, если бы не заказчики'\n",
    "short_phrase = '640Кб должно хватить для любых задач. Билл Гейтс (по легенде)'\n",
    "comparison = len('long_phrase') < len('short_phrase')\n",
    "comparison"
   ]
  },
  {
   "cell_type": "code",
   "execution_count": 3,
   "metadata": {},
   "outputs": [
    {
     "name": "stdout",
     "output_type": "stream",
     "text": [
      "Объем файла равен 213.68 mb\n"
     ]
    }
   ],
   "source": [
    "file_size_in_bytes = 218808.32\n",
    "file_size_in_megabytes = file_size_in_bytes / 1024\n",
    "file_size_in_megabytes\n",
    "print ('Объем файла равен', file_size_in_megabytes, 'mb')"
   ]
  },
  {
   "cell_type": "code",
   "execution_count": 9,
   "metadata": {
    "scrolled": true
   },
   "outputs": [
    {
     "name": "stdout",
     "output_type": "stream",
     "text": [
      "Введите месяц:август\n",
      "Спасибо!\n",
      "Введите число:4\n",
      "Лев\n"
     ]
    }
   ],
   "source": [
    "month = input('Введите месяц:')\n",
    "if month.lower() == 'январь' or month.lower() == 'февраль' or month.lower() == 'март' or month.lower() == 'апрель' or month.lower() == 'май' or month.lower() == 'июнь' or month.lower() == 'июль' or month.lower() == 'август' or month.lower() == 'сентябрь' or month.lower() == 'октябрь' or month.lower() == 'ноябрь' or month.lower() == 'декабрь':\n",
    "    print('Спасибо!')\n",
    "else:\n",
    "    print('Неверные данные')\n",
    "date = int(input('Введите число:'))\n",
    "if ((month.lower() == 'январь') and (date <= 19)) or ((month.lower() == 'декабрь') and (22 >= date <= 31)):\n",
    "    print('Козерог')\n",
    "elif ((month.lower() == 'январь') and (20 >= date <= 31)) or ((month.lower() == 'февраль') and (date <= 19)):\n",
    "    print('Водолей')\n",
    "elif ((month.lower() == 'февраль') and (20 >= date <= 29)) or ((month.lower() == 'март') and (date <= 20)):\n",
    "    print('Рыбы')\n",
    "elif ((month.lower() == 'март') and (21 >= date <= 31)) or ((month.lower() == 'апрель') and (date <= 20)):\n",
    "    print('Овен')\n",
    "elif ((month.lower() == 'апрель') and (21 >= date <= 30)) or ((month.lower() == 'май') and (date <= 21)):\n",
    "    print('Телец')\n",
    "elif ((month.lower() == 'май') and (22 >= date <= 31)) or ((month.lower() == 'июнь') and (date <= 21)):\n",
    "    print('Близнецы')\n",
    "elif ((month.lower() == 'июнь') and (22 >= date <= 30)) or ((month.lower() == 'июль') and (date <= 22)):\n",
    "    print('Рак')\n",
    "elif ((month.lower() == 'июль') and (23 >= date <= 31)) or ((month.lower() == 'август') and (date <= 23)) :\n",
    "    print('Лев')\n",
    "elif ((month.lower() == 'август') and (24 >= date <= 31)) or ((month.lower() == 'сентябрь') and (date <= 23)):\n",
    "    print('Дева')\n",
    "elif ((month.lower() == 'сентябрь') and (24 >= date <= 30)) or ((month.lower() == 'октябрь') and (date <= 22)):\n",
    "    print('Весы')\n",
    "elif ((month.lower() == 'октябрь') and (23 >= date <= 31)) or ((month.lower() == 'ноябрь') and (date <= 22)):\n",
    "    print('Скорпион')\n",
    "elif ((month.lower() == 'ноябрь') and (23 >= date <= 30)) or ((month.lower() == 'декабрь') and (date <= 21)):\n",
    "    print('Стрелец')\n",
    "else:\n",
    "    print('Неверные данные')\n"
   ]
  },
  {
   "cell_type": "code",
   "execution_count": 2,
   "metadata": {},
   "outputs": [
    {
     "name": "stdout",
     "output_type": "stream",
     "text": [
      "Введите заработанную плату в месяц: 100000\n",
      "Введите сколько процентов уходит на ипотеку: 30\n",
      "Введите сколько процентов уходит на жизнь: 50\n",
      "Введите количество премий за год: 2\n",
      "На ипотеку было потрачено: 360000.0 рублей.  Было накоплено: 340000.0 рублей. \n"
     ]
    }
   ],
   "source": [
    "monthly_salary = int(input('Введите заработанную плату в месяц: '))\n",
    "percentage_mortgage = int(input('Введите сколько процентов уходит на ипотеку: '))\n",
    "percentage_life = int(input('Введите сколько процентов уходит на жизнь: '))\n",
    "amount_bonuses_year = int(input('Введите количество премий за год: '))\n",
    "money_for_mortgage = (percentage_mortgage * monthly_salary * 12) / 100\n",
    "money_for_life = monthly_salary * (12 * percentage_life / 100 + amount_bonuses_year / 2 )\n",
    "money_for_retirement = monthly_salary * (12 + amount_bonuses_year) - money_for_mortgage - money_for_life\n",
    "print ('На ипотеку было потрачено:', money_for_mortgage, 'рублей. ', 'Было накоплено:', money_for_retirement, 'рублей. ')"
   ]
  }
 ],
 "metadata": {
  "kernelspec": {
   "display_name": "Python 3",
   "language": "python",
   "name": "python3"
  },
  "language_info": {
   "codemirror_mode": {
    "name": "ipython",
    "version": 3
   },
   "file_extension": ".py",
   "mimetype": "text/x-python",
   "name": "python",
   "nbconvert_exporter": "python",
   "pygments_lexer": "ipython3",
   "version": "3.7.6"
  }
 },
 "nbformat": 4,
 "nbformat_minor": 4
}
